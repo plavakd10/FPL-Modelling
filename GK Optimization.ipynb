{
 "cells": [
  {
   "cell_type": "code",
   "execution_count": 1,
   "id": "5e7d2f2f-b891-4778-a484-6a4d4c48ac30",
   "metadata": {},
   "outputs": [],
   "source": [
    "import pandas as pd\n",
    "import sasoptpy as so\n",
    "import os"
   ]
  },
  {
   "cell_type": "code",
   "execution_count": 2,
   "id": "b06af8ab-d31e-4c56-abad-b58ba80d18f5",
   "metadata": {},
   "outputs": [
    {
     "data": {
      "text/html": [
       "<div>\n",
       "<style scoped>\n",
       "    .dataframe tbody tr th:only-of-type {\n",
       "        vertical-align: middle;\n",
       "    }\n",
       "\n",
       "    .dataframe tbody tr th {\n",
       "        vertical-align: top;\n",
       "    }\n",
       "\n",
       "    .dataframe thead th {\n",
       "        text-align: right;\n",
       "    }\n",
       "</style>\n",
       "<table border=\"1\" class=\"dataframe\">\n",
       "  <thead>\n",
       "    <tr style=\"text-align: right;\">\n",
       "      <th></th>\n",
       "      <th>Pos_Num</th>\n",
       "      <th>Pos</th>\n",
       "      <th>Name</th>\n",
       "      <th>BV</th>\n",
       "      <th>SV</th>\n",
       "      <th>Team</th>\n",
       "      <th>23_xMins</th>\n",
       "      <th>23_Pts</th>\n",
       "    </tr>\n",
       "  </thead>\n",
       "  <tbody>\n",
       "    <tr>\n",
       "      <th>0</th>\n",
       "      <td>1</td>\n",
       "      <td>G</td>\n",
       "      <td>Lloris</td>\n",
       "      <td>5.6</td>\n",
       "      <td>5.6</td>\n",
       "      <td>Spurs</td>\n",
       "      <td>88</td>\n",
       "      <td>4.152</td>\n",
       "    </tr>\n",
       "    <tr>\n",
       "      <th>1</th>\n",
       "      <td>2</td>\n",
       "      <td>D</td>\n",
       "      <td>Alonso</td>\n",
       "      <td>5.6</td>\n",
       "      <td>5.6</td>\n",
       "      <td>Chelsea</td>\n",
       "      <td>77</td>\n",
       "      <td>4.617</td>\n",
       "    </tr>\n",
       "    <tr>\n",
       "      <th>2</th>\n",
       "      <td>2</td>\n",
       "      <td>D</td>\n",
       "      <td>Azpilicueta</td>\n",
       "      <td>5.6</td>\n",
       "      <td>5.6</td>\n",
       "      <td>Chelsea</td>\n",
       "      <td>74</td>\n",
       "      <td>4.063</td>\n",
       "    </tr>\n",
       "    <tr>\n",
       "      <th>3</th>\n",
       "      <td>2</td>\n",
       "      <td>D</td>\n",
       "      <td>Thiago Silva</td>\n",
       "      <td>5.6</td>\n",
       "      <td>5.6</td>\n",
       "      <td>Chelsea</td>\n",
       "      <td>77</td>\n",
       "      <td>4.029</td>\n",
       "    </tr>\n",
       "    <tr>\n",
       "      <th>4</th>\n",
       "      <td>2</td>\n",
       "      <td>D</td>\n",
       "      <td>Dier</td>\n",
       "      <td>5.0</td>\n",
       "      <td>5.0</td>\n",
       "      <td>Spurs</td>\n",
       "      <td>84</td>\n",
       "      <td>4.005</td>\n",
       "    </tr>\n",
       "    <tr>\n",
       "      <th>...</th>\n",
       "      <td>...</td>\n",
       "      <td>...</td>\n",
       "      <td>...</td>\n",
       "      <td>...</td>\n",
       "      <td>...</td>\n",
       "      <td>...</td>\n",
       "      <td>...</td>\n",
       "      <td>...</td>\n",
       "    </tr>\n",
       "    <tr>\n",
       "      <th>640</th>\n",
       "      <td>4</td>\n",
       "      <td>F</td>\n",
       "      <td>Simms</td>\n",
       "      <td>4.5</td>\n",
       "      <td>4.5</td>\n",
       "      <td>Everton</td>\n",
       "      <td>0</td>\n",
       "      <td>0.000</td>\n",
       "    </tr>\n",
       "    <tr>\n",
       "      <th>641</th>\n",
       "      <td>4</td>\n",
       "      <td>F</td>\n",
       "      <td>Hackford</td>\n",
       "      <td>4.4</td>\n",
       "      <td>4.4</td>\n",
       "      <td>Sheffield Utd</td>\n",
       "      <td>0</td>\n",
       "      <td>0.000</td>\n",
       "    </tr>\n",
       "    <tr>\n",
       "      <th>642</th>\n",
       "      <td>4</td>\n",
       "      <td>F</td>\n",
       "      <td>Diaby</td>\n",
       "      <td>4.5</td>\n",
       "      <td>4.5</td>\n",
       "      <td>West Brom</td>\n",
       "      <td>0</td>\n",
       "      <td>0.000</td>\n",
       "    </tr>\n",
       "    <tr>\n",
       "      <th>643</th>\n",
       "      <td>4</td>\n",
       "      <td>F</td>\n",
       "      <td>Cutrone</td>\n",
       "      <td>5.9</td>\n",
       "      <td>5.9</td>\n",
       "      <td>Wolves</td>\n",
       "      <td>0</td>\n",
       "      <td>0.000</td>\n",
       "    </tr>\n",
       "    <tr>\n",
       "      <th>644</th>\n",
       "      <td>4</td>\n",
       "      <td>F</td>\n",
       "      <td>Mateta</td>\n",
       "      <td>6.0</td>\n",
       "      <td>6.0</td>\n",
       "      <td>Crystal Palace</td>\n",
       "      <td>0</td>\n",
       "      <td>0.000</td>\n",
       "    </tr>\n",
       "  </tbody>\n",
       "</table>\n",
       "<p>645 rows × 8 columns</p>\n",
       "</div>"
      ],
      "text/plain": [
       "     Pos_Num Pos          Name   BV   SV            Team  23_xMins  23_Pts\n",
       "0          1   G        Lloris  5.6  5.6           Spurs        88   4.152\n",
       "1          2   D        Alonso  5.6  5.6         Chelsea        77   4.617\n",
       "2          2   D   Azpilicueta  5.6  5.6         Chelsea        74   4.063\n",
       "3          2   D  Thiago Silva  5.6  5.6         Chelsea        77   4.029\n",
       "4          2   D          Dier  5.0  5.0           Spurs        84   4.005\n",
       "..       ...  ..           ...  ...  ...             ...       ...     ...\n",
       "640        4   F         Simms  4.5  4.5         Everton         0   0.000\n",
       "641        4   F      Hackford  4.4  4.4   Sheffield Utd         0   0.000\n",
       "642        4   F         Diaby  4.5  4.5       West Brom         0   0.000\n",
       "643        4   F       Cutrone  5.9  5.9          Wolves         0   0.000\n",
       "644        4   F        Mateta  6.0  6.0  Crystal Palace         0   0.000\n",
       "\n",
       "[645 rows x 8 columns]"
      ]
     },
     "execution_count": 2,
     "metadata": {},
     "output_type": "execute_result"
    }
   ],
   "source": [
    "df = pd.read_excel(r\"P:\\Projects\\FPL\\Data\\Single GW.xlsx\")\n",
    "df"
   ]
  },
  {
   "cell_type": "code",
   "execution_count": 3,
   "id": "a89c39a1-f3e8-4ce6-b7e2-93ce1e0cd6e9",
   "metadata": {},
   "outputs": [
    {
     "data": {
      "text/html": [
       "<div>\n",
       "<style scoped>\n",
       "    .dataframe tbody tr th:only-of-type {\n",
       "        vertical-align: middle;\n",
       "    }\n",
       "\n",
       "    .dataframe tbody tr th {\n",
       "        vertical-align: top;\n",
       "    }\n",
       "\n",
       "    .dataframe thead th {\n",
       "        text-align: right;\n",
       "    }\n",
       "</style>\n",
       "<table border=\"1\" class=\"dataframe\">\n",
       "  <thead>\n",
       "    <tr style=\"text-align: right;\">\n",
       "      <th></th>\n",
       "      <th>index</th>\n",
       "      <th>Pos_Num</th>\n",
       "      <th>Pos</th>\n",
       "      <th>Name</th>\n",
       "      <th>BV</th>\n",
       "      <th>SV</th>\n",
       "      <th>Team</th>\n",
       "      <th>23_xMins</th>\n",
       "      <th>23_Pts</th>\n",
       "    </tr>\n",
       "  </thead>\n",
       "  <tbody>\n",
       "    <tr>\n",
       "      <th>0</th>\n",
       "      <td>0</td>\n",
       "      <td>1</td>\n",
       "      <td>G</td>\n",
       "      <td>Lloris</td>\n",
       "      <td>5.6</td>\n",
       "      <td>5.6</td>\n",
       "      <td>Spurs</td>\n",
       "      <td>88</td>\n",
       "      <td>4.152</td>\n",
       "    </tr>\n",
       "    <tr>\n",
       "      <th>1</th>\n",
       "      <td>11</td>\n",
       "      <td>1</td>\n",
       "      <td>G</td>\n",
       "      <td>Sánchez</td>\n",
       "      <td>4.4</td>\n",
       "      <td>4.4</td>\n",
       "      <td>Brighton</td>\n",
       "      <td>88</td>\n",
       "      <td>4.030</td>\n",
       "    </tr>\n",
       "    <tr>\n",
       "      <th>2</th>\n",
       "      <td>15</td>\n",
       "      <td>1</td>\n",
       "      <td>G</td>\n",
       "      <td>Mendy</td>\n",
       "      <td>5.1</td>\n",
       "      <td>5.1</td>\n",
       "      <td>Chelsea</td>\n",
       "      <td>88</td>\n",
       "      <td>4.229</td>\n",
       "    </tr>\n",
       "    <tr>\n",
       "      <th>3</th>\n",
       "      <td>16</td>\n",
       "      <td>1</td>\n",
       "      <td>G</td>\n",
       "      <td>de Gea</td>\n",
       "      <td>5.3</td>\n",
       "      <td>5.3</td>\n",
       "      <td>Man Utd</td>\n",
       "      <td>87</td>\n",
       "      <td>3.826</td>\n",
       "    </tr>\n",
       "    <tr>\n",
       "      <th>4</th>\n",
       "      <td>17</td>\n",
       "      <td>1</td>\n",
       "      <td>G</td>\n",
       "      <td>Schmeichel</td>\n",
       "      <td>5.5</td>\n",
       "      <td>5.5</td>\n",
       "      <td>Leicester</td>\n",
       "      <td>87</td>\n",
       "      <td>3.812</td>\n",
       "    </tr>\n",
       "    <tr>\n",
       "      <th>...</th>\n",
       "      <td>...</td>\n",
       "      <td>...</td>\n",
       "      <td>...</td>\n",
       "      <td>...</td>\n",
       "      <td>...</td>\n",
       "      <td>...</td>\n",
       "      <td>...</td>\n",
       "      <td>...</td>\n",
       "      <td>...</td>\n",
       "    </tr>\n",
       "    <tr>\n",
       "      <th>69</th>\n",
       "      <td>82</td>\n",
       "      <td>1</td>\n",
       "      <td>G</td>\n",
       "      <td>Langley</td>\n",
       "      <td>4.0</td>\n",
       "      <td>4.0</td>\n",
       "      <td>Newcastle</td>\n",
       "      <td>0</td>\n",
       "      <td>0.000</td>\n",
       "    </tr>\n",
       "    <tr>\n",
       "      <th>70</th>\n",
       "      <td>83</td>\n",
       "      <td>1</td>\n",
       "      <td>G</td>\n",
       "      <td>Carson</td>\n",
       "      <td>4.0</td>\n",
       "      <td>4.0</td>\n",
       "      <td>Man City</td>\n",
       "      <td>0</td>\n",
       "      <td>0.000</td>\n",
       "    </tr>\n",
       "    <tr>\n",
       "      <th>71</th>\n",
       "      <td>84</td>\n",
       "      <td>1</td>\n",
       "      <td>G</td>\n",
       "      <td>Söndergaard</td>\n",
       "      <td>4.0</td>\n",
       "      <td>4.0</td>\n",
       "      <td>Wolves</td>\n",
       "      <td>0</td>\n",
       "      <td>0.000</td>\n",
       "    </tr>\n",
       "    <tr>\n",
       "      <th>72</th>\n",
       "      <td>85</td>\n",
       "      <td>1</td>\n",
       "      <td>G</td>\n",
       "      <td>Lewis</td>\n",
       "      <td>4.0</td>\n",
       "      <td>4.0</td>\n",
       "      <td>Southampton</td>\n",
       "      <td>0</td>\n",
       "      <td>0.000</td>\n",
       "    </tr>\n",
       "    <tr>\n",
       "      <th>73</th>\n",
       "      <td>86</td>\n",
       "      <td>1</td>\n",
       "      <td>G</td>\n",
       "      <td>Lonergan</td>\n",
       "      <td>4.0</td>\n",
       "      <td>4.0</td>\n",
       "      <td>West Brom</td>\n",
       "      <td>0</td>\n",
       "      <td>0.000</td>\n",
       "    </tr>\n",
       "  </tbody>\n",
       "</table>\n",
       "<p>74 rows × 9 columns</p>\n",
       "</div>"
      ],
      "text/plain": [
       "    index  Pos_Num Pos         Name   BV   SV         Team  23_xMins  23_Pts\n",
       "0       0        1   G       Lloris  5.6  5.6        Spurs        88   4.152\n",
       "1      11        1   G      Sánchez  4.4  4.4     Brighton        88   4.030\n",
       "2      15        1   G        Mendy  5.1  5.1      Chelsea        88   4.229\n",
       "3      16        1   G       de Gea  5.3  5.3      Man Utd        87   3.826\n",
       "4      17        1   G   Schmeichel  5.5  5.5    Leicester        87   3.812\n",
       "..    ...      ...  ..          ...  ...  ...          ...       ...     ...\n",
       "69     82        1   G      Langley  4.0  4.0    Newcastle         0   0.000\n",
       "70     83        1   G       Carson  4.0  4.0     Man City         0   0.000\n",
       "71     84        1   G  Söndergaard  4.0  4.0       Wolves         0   0.000\n",
       "72     85        1   G        Lewis  4.0  4.0  Southampton         0   0.000\n",
       "73     86        1   G     Lonergan  4.0  4.0    West Brom         0   0.000\n",
       "\n",
       "[74 rows x 9 columns]"
      ]
     },
     "execution_count": 3,
     "metadata": {},
     "output_type": "execute_result"
    }
   ],
   "source": [
    "gk_data = df[df['Pos_Num']==1].copy().reset_index()\n",
    "gk_data"
   ]
  },
  {
   "cell_type": "code",
   "execution_count": 4,
   "id": "bef8daa6-dcce-4449-b879-72d70350b455",
   "metadata": {},
   "outputs": [
    {
     "name": "stdout",
     "output_type": "stream",
     "text": [
      "NOTE: Initialized model gk_model.\n"
     ]
    }
   ],
   "source": [
    "model = so.Model('gk_model')"
   ]
  },
  {
   "cell_type": "code",
   "execution_count": 5,
   "id": "280e6f49-994a-4928-87aa-f8494005f1e5",
   "metadata": {},
   "outputs": [],
   "source": [
    "gk_data.set_index('index',inplace=True)"
   ]
  },
  {
   "cell_type": "code",
   "execution_count": 6,
   "id": "19844715-aedf-4437-851e-019beeaddfa6",
   "metadata": {},
   "outputs": [
    {
     "data": {
      "text/html": [
       "<div>\n",
       "<style scoped>\n",
       "    .dataframe tbody tr th:only-of-type {\n",
       "        vertical-align: middle;\n",
       "    }\n",
       "\n",
       "    .dataframe tbody tr th {\n",
       "        vertical-align: top;\n",
       "    }\n",
       "\n",
       "    .dataframe thead th {\n",
       "        text-align: right;\n",
       "    }\n",
       "</style>\n",
       "<table border=\"1\" class=\"dataframe\">\n",
       "  <thead>\n",
       "    <tr style=\"text-align: right;\">\n",
       "      <th></th>\n",
       "      <th>Pos_Num</th>\n",
       "      <th>Pos</th>\n",
       "      <th>Name</th>\n",
       "      <th>BV</th>\n",
       "      <th>SV</th>\n",
       "      <th>Team</th>\n",
       "      <th>23_xMins</th>\n",
       "      <th>23_Pts</th>\n",
       "    </tr>\n",
       "    <tr>\n",
       "      <th>index</th>\n",
       "      <th></th>\n",
       "      <th></th>\n",
       "      <th></th>\n",
       "      <th></th>\n",
       "      <th></th>\n",
       "      <th></th>\n",
       "      <th></th>\n",
       "      <th></th>\n",
       "    </tr>\n",
       "  </thead>\n",
       "  <tbody>\n",
       "    <tr>\n",
       "      <th>0</th>\n",
       "      <td>1</td>\n",
       "      <td>G</td>\n",
       "      <td>Lloris</td>\n",
       "      <td>5.6</td>\n",
       "      <td>5.6</td>\n",
       "      <td>Spurs</td>\n",
       "      <td>88</td>\n",
       "      <td>4.152</td>\n",
       "    </tr>\n",
       "    <tr>\n",
       "      <th>11</th>\n",
       "      <td>1</td>\n",
       "      <td>G</td>\n",
       "      <td>Sánchez</td>\n",
       "      <td>4.4</td>\n",
       "      <td>4.4</td>\n",
       "      <td>Brighton</td>\n",
       "      <td>88</td>\n",
       "      <td>4.030</td>\n",
       "    </tr>\n",
       "    <tr>\n",
       "      <th>15</th>\n",
       "      <td>1</td>\n",
       "      <td>G</td>\n",
       "      <td>Mendy</td>\n",
       "      <td>5.1</td>\n",
       "      <td>5.1</td>\n",
       "      <td>Chelsea</td>\n",
       "      <td>88</td>\n",
       "      <td>4.229</td>\n",
       "    </tr>\n",
       "    <tr>\n",
       "      <th>16</th>\n",
       "      <td>1</td>\n",
       "      <td>G</td>\n",
       "      <td>de Gea</td>\n",
       "      <td>5.3</td>\n",
       "      <td>5.3</td>\n",
       "      <td>Man Utd</td>\n",
       "      <td>87</td>\n",
       "      <td>3.826</td>\n",
       "    </tr>\n",
       "    <tr>\n",
       "      <th>17</th>\n",
       "      <td>1</td>\n",
       "      <td>G</td>\n",
       "      <td>Schmeichel</td>\n",
       "      <td>5.5</td>\n",
       "      <td>5.5</td>\n",
       "      <td>Leicester</td>\n",
       "      <td>87</td>\n",
       "      <td>3.812</td>\n",
       "    </tr>\n",
       "  </tbody>\n",
       "</table>\n",
       "</div>"
      ],
      "text/plain": [
       "       Pos_Num Pos        Name   BV   SV       Team  23_xMins  23_Pts\n",
       "index                                                                \n",
       "0            1   G      Lloris  5.6  5.6      Spurs        88   4.152\n",
       "11           1   G     Sánchez  4.4  4.4   Brighton        88   4.030\n",
       "15           1   G       Mendy  5.1  5.1    Chelsea        88   4.229\n",
       "16           1   G      de Gea  5.3  5.3    Man Utd        87   3.826\n",
       "17           1   G  Schmeichel  5.5  5.5  Leicester        87   3.812"
      ]
     },
     "execution_count": 6,
     "metadata": {},
     "output_type": "execute_result"
    }
   ],
   "source": [
    "gk_data.head()"
   ]
  },
  {
   "cell_type": "code",
   "execution_count": 7,
   "id": "f6436ded-72e9-4ebe-a4e3-2a645bedbca0",
   "metadata": {},
   "outputs": [],
   "source": [
    "players = gk_data.index.tolist()"
   ]
  },
  {
   "cell_type": "code",
   "execution_count": 8,
   "id": "1f0ed903-5bce-4f9f-9eda-ad313da2ff0d",
   "metadata": {},
   "outputs": [],
   "source": [
    "lineup = model.add_variables(players,name='lineup',vartype=so.binary)"
   ]
  },
  {
   "cell_type": "code",
   "execution_count": 9,
   "id": "fcf89c43-9239-49d6-ab0d-26a720079a18",
   "metadata": {},
   "outputs": [
    {
     "data": {
      "text/plain": [
       "sasoptpy.VariableGroup([0, 11, 15, 16, 17, 18, 19, 20, 21, 22, 23, 24, 25, 26, 27, 28, 29, 30, 31, 32, 33, 34, 35, 36, 37, 38, 39, 40, 41, 42, 43, 44, 45, 46, 47, 48, 49, 50, 51, 52, 53, 54, 55, 56, 57, 58, 59, 60, 61, 62, 63, 64, 65, 66, 67, 68, 69, 70, 71, 72, 73, 74, 75, 76, 77, 78, 79, 80, 81, 82, 83, 84, 85, 86], name='lineup')"
      ]
     },
     "execution_count": 9,
     "metadata": {},
     "output_type": "execute_result"
    }
   ],
   "source": [
    "lineup"
   ]
  },
  {
   "cell_type": "code",
   "execution_count": 10,
   "id": "f9436a17-11c6-46d7-8af7-d1acf45ff1f4",
   "metadata": {},
   "outputs": [],
   "source": [
    "bench = model.add_variables(players,name='bench',vartype=so.binary)"
   ]
  },
  {
   "cell_type": "code",
   "execution_count": 11,
   "id": "1f527a76-1b6f-4318-8ffd-6a18774237ec",
   "metadata": {},
   "outputs": [
    {
     "name": "stderr",
     "output_type": "stream",
     "text": [
      "C:\\Users\\Pankti Prajwolika\\AppData\\Local\\Temp\\ipykernel_13412\\2853833603.py:1: RuntimeWarning: Requested variable group is empty: lineup[1] (<class 'int'>)\n",
      "  lineup[1]\n"
     ]
    }
   ],
   "source": [
    "lineup[1]"
   ]
  },
  {
   "cell_type": "code",
   "execution_count": 12,
   "id": "cf8532a5-c4c3-4016-ac24-29bbccde4bf7",
   "metadata": {},
   "outputs": [],
   "source": [
    "total_xp = so.expr_sum(lineup[p]*gk_data.loc[p,'23_Pts'] for p in players) + 0.1* so.expr_sum(bench[p]*gk_data.loc[p,'23_Pts'] for p in players)"
   ]
  },
  {
   "cell_type": "code",
   "execution_count": 13,
   "id": "d9db7d47-2f5a-4b9c-ae3f-1e3690eeef1a",
   "metadata": {},
   "outputs": [
    {
     "data": {
      "text/plain": [
       "sasoptpy.Expression(exp = 4.152 * lineup[0] + 4.03 * lineup[11] + 4.229 * lineup[15] + 3.826 * lineup[16] + 3.812 * lineup[17] + 3.737 * lineup[18] + 3.721 * lineup[19] + 3.654 * lineup[20] + 3.643 * lineup[21] + 3.536 * lineup[22] + 3.439 * lineup[23] + 3.428 * lineup[24] + 3.401 * lineup[25] + 3.371 * lineup[26] + 3.183 * lineup[27] + 3.097 * lineup[28] + 3.095 * lineup[29] + 2.488 * lineup[30] + 1.716 * lineup[31] + 1.446 * lineup[32] + 1.384 * lineup[33] + 1.22 * lineup[34] + 0.664 * lineup[35] + 0.08 * lineup[36] + 0.4152 * bench[0] + 0.403 * bench[11] + 0.4229 * bench[15] + 0.3826 * bench[16] + 0.3812 * bench[17] + 0.3737 * bench[18] + 0.3721 * bench[19] + 0.3654 * bench[20] + 0.3643 * bench[21] + 0.3536 * bench[22] + 0.3439 * bench[23] + 0.3428 * bench[24] + 0.3401 * bench[25] + 0.3371 * bench[26] + 0.3183 * bench[27] + 0.3097 * bench[28] + 0.3095 * bench[29] + 0.2488 * bench[30] + 0.1716 * bench[31] + 0.1446 * bench[32] + 0.1384 * bench[33] + 0.122 * bench[34] + 0.0664 * bench[35] + 0.008 * bench[36], name=None)"
      ]
     },
     "execution_count": 13,
     "metadata": {},
     "output_type": "execute_result"
    }
   ],
   "source": [
    "total_xp"
   ]
  },
  {
   "cell_type": "code",
   "execution_count": 14,
   "id": "ef1aaa30-87af-49c7-8407-26f7c9cbaa66",
   "metadata": {},
   "outputs": [
    {
     "data": {
      "text/plain": [
       "sasoptpy.Expression(exp = 4.152 * lineup[0] + 4.03 * lineup[11] + 4.229 * lineup[15] + 3.826 * lineup[16] + 3.812 * lineup[17] + 3.737 * lineup[18] + 3.721 * lineup[19] + 3.654 * lineup[20] + 3.643 * lineup[21] + 3.536 * lineup[22] + 3.439 * lineup[23] + 3.428 * lineup[24] + 3.401 * lineup[25] + 3.371 * lineup[26] + 3.183 * lineup[27] + 3.097 * lineup[28] + 3.095 * lineup[29] + 2.488 * lineup[30] + 1.716 * lineup[31] + 1.446 * lineup[32] + 1.384 * lineup[33] + 1.22 * lineup[34] + 0.664 * lineup[35] + 0.08 * lineup[36] + 0.4152 * bench[0] + 0.403 * bench[11] + 0.4229 * bench[15] + 0.3826 * bench[16] + 0.3812 * bench[17] + 0.3737 * bench[18] + 0.3721 * bench[19] + 0.3654 * bench[20] + 0.3643 * bench[21] + 0.3536 * bench[22] + 0.3439 * bench[23] + 0.3428 * bench[24] + 0.3401 * bench[25] + 0.3371 * bench[26] + 0.3183 * bench[27] + 0.3097 * bench[28] + 0.3095 * bench[29] + 0.2488 * bench[30] + 0.1716 * bench[31] + 0.1446 * bench[32] + 0.1384 * bench[33] + 0.122 * bench[34] + 0.0664 * bench[35] + 0.008 * bench[36], name='total_xp_obj')"
      ]
     },
     "execution_count": 14,
     "metadata": {},
     "output_type": "execute_result"
    }
   ],
   "source": [
    "model.set_objective(total_xp, name='total_xp_obj', sense = so.maximize)"
   ]
  },
  {
   "cell_type": "code",
   "execution_count": 15,
   "id": "9e46830f-c127-4e8b-b5e0-8dd82a0770ec",
   "metadata": {},
   "outputs": [
    {
     "data": {
      "text/plain": [
       "sasoptpy.ConstraintGroup([lineup[0] + bench[0] <=  1, lineup[11] + bench[11] <=  1, lineup[15] + bench[15] <=  1, lineup[16] + bench[16] <=  1, lineup[17] + bench[17] <=  1, lineup[18] + bench[18] <=  1, lineup[19] + bench[19] <=  1, lineup[20] + bench[20] <=  1, lineup[21] + bench[21] <=  1, lineup[22] + bench[22] <=  1, lineup[23] + bench[23] <=  1, lineup[24] + bench[24] <=  1, lineup[25] + bench[25] <=  1, lineup[26] + bench[26] <=  1, lineup[27] + bench[27] <=  1, lineup[28] + bench[28] <=  1, lineup[29] + bench[29] <=  1, lineup[30] + bench[30] <=  1, lineup[31] + bench[31] <=  1, lineup[32] + bench[32] <=  1, lineup[33] + bench[33] <=  1, lineup[34] + bench[34] <=  1, lineup[35] + bench[35] <=  1, lineup[36] + bench[36] <=  1, lineup[37] + bench[37] <=  1, lineup[38] + bench[38] <=  1, lineup[39] + bench[39] <=  1, lineup[40] + bench[40] <=  1, lineup[41] + bench[41] <=  1, lineup[42] + bench[42] <=  1, lineup[43] + bench[43] <=  1, lineup[44] + bench[44] <=  1, lineup[45] + bench[45] <=  1, lineup[46] + bench[46] <=  1, lineup[47] + bench[47] <=  1, lineup[48] + bench[48] <=  1, lineup[49] + bench[49] <=  1, lineup[50] + bench[50] <=  1, lineup[51] + bench[51] <=  1, lineup[52] + bench[52] <=  1, lineup[53] + bench[53] <=  1, lineup[54] + bench[54] <=  1, lineup[55] + bench[55] <=  1, lineup[56] + bench[56] <=  1, lineup[57] + bench[57] <=  1, lineup[58] + bench[58] <=  1, lineup[59] + bench[59] <=  1, lineup[60] + bench[60] <=  1, lineup[61] + bench[61] <=  1, lineup[62] + bench[62] <=  1, lineup[63] + bench[63] <=  1, lineup[64] + bench[64] <=  1, lineup[65] + bench[65] <=  1, lineup[66] + bench[66] <=  1, lineup[67] + bench[67] <=  1, lineup[68] + bench[68] <=  1, lineup[69] + bench[69] <=  1, lineup[70] + bench[70] <=  1, lineup[71] + bench[71] <=  1, lineup[72] + bench[72] <=  1, lineup[73] + bench[73] <=  1, lineup[74] + bench[74] <=  1, lineup[75] + bench[75] <=  1, lineup[76] + bench[76] <=  1, lineup[77] + bench[77] <=  1, lineup[78] + bench[78] <=  1, lineup[79] + bench[79] <=  1, lineup[80] + bench[80] <=  1, lineup[81] + bench[81] <=  1, lineup[82] + bench[82] <=  1, lineup[83] + bench[83] <=  1, lineup[84] + bench[84] <=  1, lineup[85] + bench[85] <=  1, lineup[86] + bench[86] <=  1], name='linrup_or_bench')"
      ]
     },
     "execution_count": 15,
     "metadata": {},
     "output_type": "execute_result"
    }
   ],
   "source": [
    "model.add_constraints((lineup[p] + bench[p] <=1 for p in players), name='linrup_or_bench')"
   ]
  },
  {
   "cell_type": "code",
   "execution_count": 16,
   "id": "6cfd8a83-9cc2-40f0-bd4c-fed6ffa77477",
   "metadata": {},
   "outputs": [
    {
     "data": {
      "text/plain": [
       "sasoptpy.Constraint(lineup[0] + lineup[11] + lineup[15] + lineup[16] + lineup[17] + lineup[18] + lineup[19] + lineup[20] + lineup[21] + lineup[22] + lineup[23] + lineup[24] + lineup[25] + lineup[26] + lineup[27] + lineup[28] + lineup[29] + lineup[30] + lineup[31] + lineup[32] + lineup[33] + lineup[34] + lineup[35] + lineup[36] + lineup[37] + lineup[38] + lineup[39] + lineup[40] + lineup[41] + lineup[42] + lineup[43] + lineup[44] + lineup[45] + lineup[46] + lineup[47] + lineup[48] + lineup[49] + lineup[50] + lineup[51] + lineup[52] + lineup[53] + lineup[54] + lineup[55] + lineup[56] + lineup[57] + lineup[58] + lineup[59] + lineup[60] + lineup[61] + lineup[62] + lineup[63] + lineup[64] + lineup[65] + lineup[66] + lineup[67] + lineup[68] + lineup[69] + lineup[70] + lineup[71] + lineup[72] + lineup[73] + lineup[74] + lineup[75] + lineup[76] + lineup[77] + lineup[78] + lineup[79] + lineup[80] + lineup[81] + lineup[82] + lineup[83] + lineup[84] + lineup[85] + lineup[86] ==  1, name='single_lineup')"
      ]
     },
     "execution_count": 16,
     "metadata": {},
     "output_type": "execute_result"
    }
   ],
   "source": [
    "model.add_constraint(so.expr_sum(lineup[p] for p in players) == 1, name='single_lineup')"
   ]
  },
  {
   "cell_type": "code",
   "execution_count": 17,
   "id": "d54bbcdc-9076-447f-a704-41cd674c436b",
   "metadata": {},
   "outputs": [
    {
     "data": {
      "text/plain": [
       "sasoptpy.Constraint(bench[0] + bench[11] + bench[15] + bench[16] + bench[17] + bench[18] + bench[19] + bench[20] + bench[21] + bench[22] + bench[23] + bench[24] + bench[25] + bench[26] + bench[27] + bench[28] + bench[29] + bench[30] + bench[31] + bench[32] + bench[33] + bench[34] + bench[35] + bench[36] + bench[37] + bench[38] + bench[39] + bench[40] + bench[41] + bench[42] + bench[43] + bench[44] + bench[45] + bench[46] + bench[47] + bench[48] + bench[49] + bench[50] + bench[51] + bench[52] + bench[53] + bench[54] + bench[55] + bench[56] + bench[57] + bench[58] + bench[59] + bench[60] + bench[61] + bench[62] + bench[63] + bench[64] + bench[65] + bench[66] + bench[67] + bench[68] + bench[69] + bench[70] + bench[71] + bench[72] + bench[73] + bench[74] + bench[75] + bench[76] + bench[77] + bench[78] + bench[79] + bench[80] + bench[81] + bench[82] + bench[83] + bench[84] + bench[85] + bench[86] ==  1, name='single_bench')"
      ]
     },
     "execution_count": 17,
     "metadata": {},
     "output_type": "execute_result"
    }
   ],
   "source": [
    "model.add_constraint(so.expr_sum(bench[p] for p in players) == 1, name='single_bench')"
   ]
  },
  {
   "cell_type": "code",
   "execution_count": 18,
   "id": "f29134f7-c912-47c1-8d66-e8690a43cad9",
   "metadata": {},
   "outputs": [
    {
     "data": {
      "text/plain": [
       "sasoptpy.Constraint(5.6 * lineup[0] + 5.6 * bench[0] + 4.4 * lineup[11] + 4.4 * bench[11] + 5.1 * lineup[15] + 5.1 * bench[15] + 5.3 * lineup[16] + 5.3 * bench[16] + 5.5 * lineup[17] + 5.5 * bench[17] + 5.1 * lineup[18] + 5.1 * bench[18] + 4.7 * lineup[19] + 4.7 * bench[19] + 4.6 * lineup[20] + 4.6 * bench[20] + 5.5 * lineup[21] + 5.5 * bench[21] + 6.1 * lineup[22] + 6.1 * bench[22] + 4.5 * lineup[23] + 4.5 * bench[23] + 5.4 * lineup[24] + 5.4 * bench[24] + 5.2 * lineup[25] + 5.2 * bench[25] + 5.0 * lineup[26] + 5.0 * bench[26] + 4.8 * lineup[27] + 4.8 * bench[27] + 4.5 * lineup[28] + 4.5 * bench[28] + 4.6 * lineup[29] + 4.6 * bench[29] + 5.9 * lineup[30] + 5.9 * bench[30] + 4.5 * lineup[31] + 4.5 * bench[31] + 4.8 * lineup[32] + 4.8 * bench[32] + 4.4 * lineup[33] + 4.4 * bench[33] + 4.2 * lineup[34] + 4.2 * bench[34] + 4.5 * lineup[35] + 4.5 * bench[35] + 4.8 * lineup[36] + 4.8 * bench[36] + 5.0 * lineup[37] + 5.0 * bench[37] + 4.5 * lineup[38] + 4.5 * bench[38] + 3.9 * lineup[39] + 3.9 * bench[39] + 4.0 * lineup[40] + 4.0 * bench[40] + 4.0 * lineup[41] + 4.0 * bench[41] + 4.0 * lineup[42] + 4.0 * bench[42] + 4.7 * lineup[43] + 4.7 * bench[43] + 4.7 * lineup[44] + 4.7 * bench[44] + 4.3 * lineup[45] + 4.3 * bench[45] + 4.3 * lineup[46] + 4.3 * bench[46] + 4.3 * lineup[47] + 4.3 * bench[47] + 4.0 * lineup[48] + 4.0 * bench[48] + 4.3 * lineup[49] + 4.3 * bench[49] + 4.3 * lineup[50] + 4.3 * bench[50] + 4.2 * lineup[51] + 4.2 * bench[51] + 4.0 * lineup[52] + 4.0 * bench[52] + 4.3 * lineup[53] + 4.3 * bench[53] + 4.2 * lineup[54] + 4.2 * bench[54] + 4.5 * lineup[55] + 4.5 * bench[55] + 4.9 * lineup[56] + 4.9 * bench[56] + 5.2 * lineup[57] + 5.2 * bench[57] + 4.3 * lineup[58] + 4.3 * bench[58] + 4.3 * lineup[59] + 4.3 * bench[59] + 4.3 * lineup[60] + 4.3 * bench[60] + 4.3 * lineup[61] + 4.3 * bench[61] + 4.0 * lineup[62] + 4.0 * bench[62] + 4.4 * lineup[63] + 4.4 * bench[63] + 4.5 * lineup[64] + 4.5 * bench[64] + 4.3 * lineup[65] + 4.3 * bench[65] + 4.4 * lineup[66] + 4.4 * bench[66] + 4.3 * lineup[67] + 4.3 * bench[67] + 4.3 * lineup[68] + 4.3 * bench[68] + 4.0 * lineup[69] + 4.0 * bench[69] + 4.0 * lineup[70] + 4.0 * bench[70] + 4.0 * lineup[71] + 4.0 * bench[71] + 4.0 * lineup[72] + 4.0 * bench[72] + 4.0 * lineup[73] + 4.0 * bench[73] + 4.4 * lineup[74] + 4.4 * bench[74] + 4.0 * lineup[75] + 4.0 * bench[75] + 4.0 * lineup[76] + 4.0 * bench[76] + 4.0 * lineup[77] + 4.0 * bench[77] + 4.5 * lineup[78] + 4.5 * bench[78] + 4.0 * lineup[79] + 4.0 * bench[79] + 4.0 * lineup[80] + 4.0 * bench[80] + 4.0 * lineup[81] + 4.0 * bench[81] + 4.0 * lineup[82] + 4.0 * bench[82] + 4.0 * lineup[83] + 4.0 * bench[83] + 4.0 * lineup[84] + 4.0 * bench[84] + 4.0 * lineup[85] + 4.0 * bench[85] + 4.0 * lineup[86] + 4.0 * bench[86] <=  9.5, name='budget_con')"
      ]
     },
     "execution_count": 18,
     "metadata": {},
     "output_type": "execute_result"
    }
   ],
   "source": [
    "budget = 9.5\n",
    "model.add_constraint(so.expr_sum((lineup[p]+ bench[p])*gk_data.loc[p,'BV'] for p in players) <=budget, name='budget_con')"
   ]
  },
  {
   "cell_type": "code",
   "execution_count": 19,
   "id": "a791791d-4c81-4c31-8849-abc2bc802627",
   "metadata": {},
   "outputs": [
    {
     "data": {
      "text/plain": [
       "sasoptpy.Expression(exp = - 4.152 * lineup[0] - 4.03 * lineup[11] - 4.229 * lineup[15] - 3.826 * lineup[16] - 3.812 * lineup[17] - 3.737 * lineup[18] - 3.721 * lineup[19] - 3.654 * lineup[20] - 3.643 * lineup[21] - 3.536 * lineup[22] - 3.439 * lineup[23] - 3.428 * lineup[24] - 3.401 * lineup[25] - 3.371 * lineup[26] - 3.183 * lineup[27] - 3.097 * lineup[28] - 3.095 * lineup[29] - 2.488 * lineup[30] - 1.716 * lineup[31] - 1.446 * lineup[32] - 1.384 * lineup[33] - 1.22 * lineup[34] - 0.664 * lineup[35] - 0.08 * lineup[36] - 0.4152 * bench[0] - 0.403 * bench[11] - 0.4229 * bench[15] - 0.3826 * bench[16] - 0.3812 * bench[17] - 0.3737 * bench[18] - 0.3721 * bench[19] - 0.3654 * bench[20] - 0.3643 * bench[21] - 0.3536 * bench[22] - 0.3439 * bench[23] - 0.3428 * bench[24] - 0.3401 * bench[25] - 0.3371 * bench[26] - 0.3183 * bench[27] - 0.3097 * bench[28] - 0.3095 * bench[29] - 0.2488 * bench[30] - 0.1716 * bench[31] - 0.1446 * bench[32] - 0.1384 * bench[33] - 0.122 * bench[34] - 0.0664 * bench[35] - 0.008 * bench[36], name='total_xp_obj')"
      ]
     },
     "execution_count": 19,
     "metadata": {},
     "output_type": "execute_result"
    }
   ],
   "source": [
    "model.set_objective(-total_xp, name='total_xp_obj', sense='N')"
   ]
  },
  {
   "cell_type": "code",
   "execution_count": 20,
   "id": "95df3ec2-e6c8-4bf8-a69e-27616efc410d",
   "metadata": {},
   "outputs": [
    {
     "name": "stderr",
     "output_type": "stream",
     "text": [
      "P:\\AnacondaN\\Lib\\site-packages\\sasoptpy\\interface\\format\\mps_format.py:188: FutureWarning: Downcasting behavior in `replace` is deprecated and will be removed in a future version. To retain the old behavior, explicitly call `result.infer_objects(copy=False)`. To opt-in to the future behavior, set `pd.set_option('future.no_silent_downcasting', True)`\n",
      "  df[f] = df[f].replace('', np.nan)\n"
     ]
    }
   ],
   "source": [
    "model.export_mps(filename='gk.mps')"
   ]
  },
  {
   "cell_type": "code",
   "execution_count": 21,
   "id": "870b99f7-8636-4971-9665-14286fd1bd10",
   "metadata": {},
   "outputs": [],
   "source": [
    "command = 'cbc gk.mps solve solu solution.txt'"
   ]
  },
  {
   "cell_type": "code",
   "execution_count": 22,
   "id": "c60577fb-c232-4129-af3b-f9854c667678",
   "metadata": {},
   "outputs": [
    {
     "name": "stdout",
     "output_type": "stream",
     "text": [
      "Welcome to the CBC MILP Solver \n",
      "Version: 2.10.12 \n",
      "Build Date: Aug 20 2024 \n",
      "\n",
      "command line - cbc gk.mps solve solu solution.txt (default strategy 1)\n",
      "At line 1 NAME    gk_model\n",
      "At line 2 ROWS\n",
      "At line 81 COLUMNS\n",
      "At line 378 RHS\n",
      "At line 418 RANGES\n",
      "At line 419 BOUNDS\n",
      "At line 568 ENDATA\n",
      "Problem gk_model has 77 rows, 148 columns and 444 elements\n",
      "Coin0008I gk_model read with 0 errors\n",
      "Continuous objective value is -4.632 - 0.00 seconds\n",
      "Cgl0005I 2 SOS with 148 members\n",
      "Cgl0004I processed model has 77 rows, 148 columns (148 integer (148 of which binary)) and 444 elements\n",
      "Cutoff increment increased from 1e-05 to 9.99e-05\n",
      "Cbc0038I Initial state - 0 integers unsatisfied sum - 0\n",
      "Cbc0038I Solution found of -4.632\n",
      "Cbc0038I Before mini branch and bound, 148 integers at bound fixed and 0 continuous\n",
      "Cbc0038I Mini branch and bound did not improve solution (0.02 seconds)\n",
      "Cbc0038I After 0.02 seconds - Feasibility pump exiting with objective of -4.632 - took 0.01 seconds\n",
      "Cbc0012I Integer solution of -4.632 found by feasibility pump after 0 iterations and 0 nodes (0.02 seconds)\n",
      "Cbc0001I Search completed - best objective -4.632, took 0 iterations and 0 nodes (0.02 seconds)\n",
      "Cbc0035I Maximum depth 0, 0 variables fixed on reduced cost\n",
      "Cuts at root node changed objective from -4.632 to -4.632\n",
      "Probing was tried 0 times and created 0 cuts of which 0 were active after adding rounds of cuts (0.000 seconds)\n",
      "Gomory was tried 0 times and created 0 cuts of which 0 were active after adding rounds of cuts (0.000 seconds)\n",
      "Knapsack was tried 0 times and created 0 cuts of which 0 were active after adding rounds of cuts (0.000 seconds)\n",
      "Clique was tried 0 times and created 0 cuts of which 0 were active after adding rounds of cuts (0.000 seconds)\n",
      "MixedIntegerRounding2 was tried 0 times and created 0 cuts of which 0 were active after adding rounds of cuts (0.000 seconds)\n",
      "FlowCover was tried 0 times and created 0 cuts of which 0 were active after adding rounds of cuts (0.000 seconds)\n",
      "TwoMirCuts was tried 0 times and created 0 cuts of which 0 were active after adding rounds of cuts (0.000 seconds)\n",
      "ZeroHalf was tried 0 times and created 0 cuts of which 0 were active after adding rounds of cuts (0.000 seconds)\n",
      "\n",
      "Result - Optimal solution found\n",
      "\n",
      "Objective value:                -4.63200000\n",
      "Enumerated nodes:               0\n",
      "Total iterations:               0\n",
      "Time (CPU seconds):             0.03\n",
      "Time (Wallclock seconds):       0.03\n",
      "\n",
      "Total time (CPU seconds):       0.03   (Wallclock seconds):       0.03\n",
      "\n"
     ]
    }
   ],
   "source": [
    "!{command}"
   ]
  },
  {
   "cell_type": "code",
   "execution_count": 23,
   "id": "f4927b61-2834-46db-a1ac-bc4acb8c99c4",
   "metadata": {},
   "outputs": [],
   "source": [
    "with open('solution.txt', 'r') as f:\n",
    "    for v in model.get_variables():\n",
    "        v.set_value(0)\n",
    "    for line in f:\n",
    "        if 'objective value' in line:\n",
    "            continue\n",
    "        words = line.split()\n",
    "        var = model.get_variable(words[1])\n",
    "        var.set_value(float(words[2]))"
   ]
  },
  {
   "cell_type": "code",
   "execution_count": 25,
   "id": "df6c034c-9f7e-46e5-958d-9fdad0e3d008",
   "metadata": {},
   "outputs": [
    {
     "name": "stdout",
     "output_type": "stream",
     "text": [
      "LINEUP\n",
      "15 Pos_Num           1\n",
      "Pos               G\n",
      "Name          Mendy\n",
      "BV              5.1\n",
      "SV              5.1\n",
      "Team        Chelsea\n",
      "23_xMins         88\n",
      "23_Pts        4.229\n",
      "Name: 15, dtype: object\n",
      "BENCH\n",
      "11 Pos_Num            1\n",
      "Pos                G\n",
      "Name         Sánchez\n",
      "BV               4.4\n",
      "SV               4.4\n",
      "Team        Brighton\n",
      "23_xMins          88\n",
      "23_Pts          4.03\n",
      "Name: 11, dtype: object\n"
     ]
    }
   ],
   "source": [
    "print(\"LINEUP\")\n",
    "for p in players:\n",
    "    if lineup[p].get_value() > 0.5:\n",
    "        print(p, gk_data.loc[p])\n",
    "print(\"BENCH\")\n",
    "for p in players:\n",
    "    if bench[p].get_value() > 0.5:\n",
    "        print(p, gk_data.loc[p])"
   ]
  },
  {
   "cell_type": "code",
   "execution_count": null,
   "id": "32191053-24d9-4c40-8a12-43dc788d72ca",
   "metadata": {},
   "outputs": [],
   "source": []
  }
 ],
 "metadata": {
  "kernelspec": {
   "display_name": "Python 3 (ipykernel)",
   "language": "python",
   "name": "python3"
  },
  "language_info": {
   "codemirror_mode": {
    "name": "ipython",
    "version": 3
   },
   "file_extension": ".py",
   "mimetype": "text/x-python",
   "name": "python",
   "nbconvert_exporter": "python",
   "pygments_lexer": "ipython3",
   "version": "3.12.7"
  }
 },
 "nbformat": 4,
 "nbformat_minor": 5
}
